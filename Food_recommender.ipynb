{
 "cells": [
  {
   "cell_type": "code",
   "execution_count": 1,
   "id": "70eed5f9",
   "metadata": {},
   "outputs": [],
   "source": [
    "# Import necessary libraries\n",
    "import pandas as pd\n",
    "\n"
   ]
  },
  {
   "cell_type": "code",
   "execution_count": 2,
   "id": "16df8414",
   "metadata": {},
   "outputs": [],
   "source": [
    "# Load the CSV file into a DataFrame\n",
    "df = pd.read_csv('C:/Users/KIIT/Documents/Subjects/Food_Reccomender/indian_food.csv')\n",
    "\n"
   ]
  },
  {
   "cell_type": "code",
   "execution_count": 3,
   "id": "fb179262",
   "metadata": {},
   "outputs": [
    {
     "name": "stdout",
     "output_type": "stream",
     "text": [
      "Sample data from the CSV file:\n",
      "           dishes                                        ingredients  \\\n",
      "0      Balu shahi                    Maida flour, yogurt, oil, sugar   \n",
      "1          Boondi                            Gram flour, ghee, sugar   \n",
      "2  Gajar ka halwa       Carrots, milk, sugar, ghee, cashews, raisins   \n",
      "3          Ghevar  Flour, ghee, kewra, milk, clarified butter, su...   \n",
      "4     Gulab jamun  Milk powder, plain flour, baking powder, ghee,...   \n",
      "\n",
      "         diet  prep_time  cook_time flavor_profile   course        state  \\\n",
      "0  vegetarian         45         25          sweet  dessert  West Bengal   \n",
      "1  vegetarian         80         30          sweet  dessert    Rajasthan   \n",
      "2  vegetarian         15         60          sweet  dessert       Punjab   \n",
      "3  vegetarian         15         30          sweet  dessert    Rajasthan   \n",
      "4  vegetarian         15         40          sweet  dessert  West Bengal   \n",
      "\n",
      "  region  \n",
      "0   East  \n",
      "1   West  \n",
      "2  North  \n",
      "3   West  \n",
      "4   East  \n"
     ]
    }
   ],
   "source": [
    "# Display the first few rows of the DataFrame to understand its structure\n",
    "print(\"Sample data from the CSV file:\")\n",
    "print(df.head())\n",
    "\n"
   ]
  },
  {
   "cell_type": "code",
   "execution_count": 4,
   "id": "13d280b8",
   "metadata": {},
   "outputs": [],
   "source": [
    "def recommend_food(ingredients_list, num_recommendations=3):\n",
    "    # Filter the DataFrame based on the provided ingredients\n",
    "    recommended_foods = df[df.apply(lambda row: all(ingredient in row['ingredients'].lower() for ingredient in ingredients_list.lower().split(',')), axis=1) == True]\n",
    "    \n",
    "    if recommended_foods.empty:\n",
    "        return [\"No matching food found.\"] * num_recommendations\n",
    "    else:\n",
    "        # Get the first three recommended foods from the DataFrame\n",
    "        recommended_food_sentences = []\n",
    "        for _, recommended_food in recommended_foods.head(num_recommendations).iterrows():\n",
    "            # Create a sentence containing all the details of the recommended food\n",
    "            recommendation_sentence = f\"The recommended food is: {recommended_food['dishes']}\\nIngredients: {recommended_food['ingredients']}.\\nPreparation time: {recommended_food['prep_time']} minutes.\\nCooking time: {recommended_food['cook_time']} minutes.\\nState: {recommended_food['state']}.\\n\"\n",
    "            recommended_food_sentences.append(recommendation_sentence)\n",
    "        return recommended_food_sentences"
   ]
  },
  {
   "cell_type": "code",
   "execution_count": 5,
   "id": "5898db6d",
   "metadata": {},
   "outputs": [],
   "source": [
    "# Get input from the user during runtime\n",
    "ingredients_input = input(\"Enter ingredients separated by commas: \")\n",
    "\n",
    "# Call the recommend_food function with the user's input\n",
    "recommendation = recommend_food(ingredients_input)\n",
    "\n"
   ]
  },
  {
   "cell_type": "code",
   "execution_count": 6,
   "id": "1792cd03",
   "metadata": {},
   "outputs": [
    {
     "name": "stdout",
     "output_type": "stream",
     "text": [
      "\n",
      "Recommended Food:\n",
      "\n",
      "Food 1:\n",
      "The recommended food is: Mysore pak\n",
      "Ingredients: Besan flour, semolina, mung bean, jaggery, coconut, skimmed milk powder, sugar, ghee.\n",
      "Preparation time: 5 minutes.\n",
      "Cooking time: 20 minutes.\n",
      "State: Karnataka.\n",
      "\n",
      "\n",
      "Food 2:\n",
      "The recommended food is: Mushroom matar\n",
      "Ingredients: Canned coconut milk, frozen green peas, wild mushrooms, garam masala, tomatoes.\n",
      "Preparation time: 10 minutes.\n",
      "Cooking time: 30 minutes.\n",
      "State: Punjab.\n",
      "\n",
      "\n",
      "Food 3:\n",
      "The recommended food is: Coconut vadi\n",
      "Ingredients: Condensed milk, mawa, desiccated coconut, almonds, cashews.\n",
      "Preparation time: 20 minutes.\n",
      "Cooking time: 30 minutes.\n",
      "State: Maharashtra.\n",
      "\n"
     ]
    }
   ],
   "source": [
    "# Display the recommended food to the user in a row-column format\n",
    "print(\"\\nRecommended Food:\")\n",
    "for index, food in enumerate(recommendation, start=1):\n",
    "    print(f\"\\nFood {index}:\")\n",
    "    print(food)"
   ]
  },
  {
   "cell_type": "code",
   "execution_count": null,
   "id": "b25b10b7",
   "metadata": {},
   "outputs": [],
   "source": []
  },
  {
   "cell_type": "code",
   "execution_count": null,
   "id": "178f9070",
   "metadata": {},
   "outputs": [],
   "source": []
  },
  {
   "cell_type": "code",
   "execution_count": null,
   "id": "ba7b6ee4",
   "metadata": {},
   "outputs": [],
   "source": []
  },
  {
   "cell_type": "code",
   "execution_count": null,
   "id": "1f0632ef",
   "metadata": {},
   "outputs": [],
   "source": []
  }
 ],
 "metadata": {
  "kernelspec": {
   "display_name": "Python 3 (ipykernel)",
   "language": "python",
   "name": "python3"
  },
  "language_info": {
   "codemirror_mode": {
    "name": "ipython",
    "version": 3
   },
   "file_extension": ".py",
   "mimetype": "text/x-python",
   "name": "python",
   "nbconvert_exporter": "python",
   "pygments_lexer": "ipython3",
   "version": "3.10.8"
  }
 },
 "nbformat": 4,
 "nbformat_minor": 5
}
